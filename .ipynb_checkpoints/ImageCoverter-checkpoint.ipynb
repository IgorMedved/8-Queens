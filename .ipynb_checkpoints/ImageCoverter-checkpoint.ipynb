{
 "cells": [
  {
   "cell_type": "code",
   "execution_count": 1,
   "metadata": {},
   "outputs": [],
   "source": [
    "# Adding transperency to image that was originally 2d array \n",
    "import matplotlib.image as mpimg\n",
    "import matplotlib.pyplot as plt\n",
    "import numpy as np\n",
    "from PIL import Image\n",
    "\n",
    "%matplotlib inline\n"
   ]
  },
  {
   "cell_type": "code",
   "execution_count": 2,
   "metadata": {},
   "outputs": [
    {
     "data": {
      "text/plain": [
       "<matplotlib.image.AxesImage at 0x21e76519ba8>"
      ]
     },
     "execution_count": 2,
     "metadata": {},
     "output_type": "execute_result"
    },
    {
     "data": {
      "image/png": "[encoded data removed]",
      "text/plain": [
       "<matplotlib.figure.Figure at 0x21e75430748>"
      ]
     },
     "metadata": {},
     "output_type": "display_data"
    }
   ],
   "source": [
    "#read image in\n",
    "im = mpimg.imread('chess-pieceblack-queen.png')\n",
    "plt.imshow(im)"
   ]
  },
  {
   "cell_type": "code",
   "execution_count": 3,
   "metadata": {},
   "outputs": [],
   "source": [
    "# add color and alpha chanels, switch color chanels to the end\n",
    "im1 = np.array([im[:,:], im[:,:], im[:,:], 1-im[:,:]])\n",
    "im1 = np.transpose(im1,[1,2,0])\n"
   ]
  },
  {
   "cell_type": "code",
   "execution_count": 7,
   "metadata": {},
   "outputs": [
    {
     "data": {
      "text/plain": [
       "<matplotlib.image.AxesImage at 0x21e766b3e48>"
      ]
     },
     "execution_count": 7,
     "metadata": {},
     "output_type": "execute_result"
    },
    {
     "data": {
      "image/png": "[encoded data removed]",
      "text/plain": [
       "<matplotlib.figure.Figure at 0x21e766564a8>"
      ]
     },
     "metadata": {},
     "output_type": "display_data"
    }
   ],
   "source": [
    "im1 = 255*im1\n",
    "plt.imshow(im1)\n"
   ]
  },
  {
   "cell_type": "code",
   "execution_count": 10,
   "metadata": {
    "collapsed": true
   },
   "outputs": [],
   "source": [
    "#save converted image\n",
    "img = Image.fromarray(im1.astype('uint8'))\n",
    "img.save(\"black_transp.png\")"
   ]
  },
  {
   "cell_type": "code",
   "execution_count": 9,
   "metadata": {},
   "outputs": [
    {
     "name": "stdout",
     "output_type": "stream",
     "text": [
      "[[[ 255.          255.          255.            0.        ]\n",
      "  [ 255.          255.          255.            0.        ]\n",
      "  [ 255.          255.          255.            0.        ]\n",
      "  ..., \n",
      "  [ 255.          255.          255.            0.        ]\n",
      "  [ 255.          255.          255.            0.        ]\n",
      "  [ 255.          255.          255.            0.        ]]\n",
      "\n",
      " [[ 255.          255.          255.            0.        ]\n",
      "  [ 255.          255.          255.            0.        ]\n",
      "  [ 255.          255.          255.            0.        ]\n",
      "  ..., \n",
      "  [ 255.          255.          255.            0.        ]\n",
      "  [ 255.          255.          255.            0.        ]\n",
      "  [ 254.          254.          254.            0.99999994]]\n",
      "\n",
      " [[ 255.          255.          255.            0.        ]\n",
      "  [ 255.          255.          255.            0.        ]\n",
      "  [ 255.          255.          255.            0.        ]\n",
      "  ..., \n",
      "  [ 255.          255.          255.            0.        ]\n",
      "  [ 255.          255.          255.            0.        ]\n",
      "  [ 255.          255.          255.            0.        ]]\n",
      "\n",
      " ..., \n",
      " [[ 255.          255.          255.            0.        ]\n",
      "  [ 235.          235.          235.           19.99999809]\n",
      "  [  44.           44.           44.          211.        ]\n",
      "  ..., \n",
      "  [ 109.          109.          109.          145.99998474]\n",
      "  [ 255.          255.          255.            0.        ]\n",
      "  [ 255.          255.          255.            0.        ]]\n",
      "\n",
      " [[ 255.          255.          255.            0.        ]\n",
      "  [ 236.          236.          236.           18.99999809]\n",
      "  [  50.           50.           50.          205.        ]\n",
      "  ..., \n",
      "  [ 112.          112.          112.          143.        ]\n",
      "  [ 255.          255.          255.            0.        ]\n",
      "  [ 255.          255.          255.            0.        ]]\n",
      "\n",
      " [[ 255.          255.          255.            0.        ]\n",
      "  [ 249.          249.          249.            5.99999952]\n",
      "  [ 184.          184.          184.           70.99999237]\n",
      "  ..., \n",
      "  [ 207.          207.          207.           47.99999619]\n",
      "  [ 255.          255.          255.            0.        ]\n",
      "  [ 255.          255.          255.            0.        ]]]\n"
     ]
    }
   ],
   "source": [
    "print (im1)"
   ]
  },
  {
   "cell_type": "code",
   "execution_count": null,
   "metadata": {
    "collapsed": true
   },
   "outputs": [],
   "source": []
  }
 ],
 "metadata": {
  "anaconda-cloud": {},
  "kernelspec": {
   "display_name": "nb35",
   "language": "python",
   "name": "nb35"
  },
  "language_info": {
   "codemirror_mode": {
    "name": "ipython",
    "version": 3
   },
   "file_extension": ".py",
   "mimetype": "text/x-python",
   "name": "python",
   "nbconvert_exporter": "python",
   "pygments_lexer": "ipython3",
   "version": "3.5.4"
  }
 },
 "nbformat": 4,
 "nbformat_minor": 2
}
