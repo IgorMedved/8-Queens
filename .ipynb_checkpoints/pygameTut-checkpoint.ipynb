{
 "cells": [
  {
   "cell_type": "code",
   "execution_count": 1,
   "metadata": {
    "collapsed": true
   },
   "outputs": [],
   "source": [
    "import pygame\n",
    "pygame.init()\n",
    "\n",
    "display_width, display_height = 800,600\n",
    "\n",
    "black = (0,0,0)\n",
    "white = (255,255,255)\n",
    "red = (255, 0, 0)\n",
    "\n",
    "gameDisplay = pygame.display.set_mode((display_width, display_height))\n",
    "pygame.display.set_caption('A bit Racey')\n",
    "clock = pygame.time.Clock()"
   ]
  },
  {
   "cell_type": "code",
   "execution_count": 2,
   "metadata": {
    "collapsed": false
   },
   "outputs": [
    {
     "name": "stdout",
     "output_type": "stream",
     "text": [
      "<Event(17-VideoExpose {})>\n",
      "<Event(16-VideoResize {'size': (800, 600), 'w': 800, 'h': 600})>\n",
      "<Event(1-ActiveEvent {'gain': 0, 'state': 1})>\n",
      "<Event(4-MouseMotion {'pos': (266, 135), 'rel': (267, 136), 'buttons': (0, 0, 0)})>\n",
      "<Event(1-ActiveEvent {'gain': 1, 'state': 1})>\n",
      "<Event(4-MouseMotion {'pos': (11, 220), 'rel': (-255, 85), 'buttons': (0, 0, 0)})>\n",
      "<Event(4-MouseMotion {'pos': (0, 146), 'rel': (-11, -74), 'buttons': (0, 0, 0)})>\n",
      "<Event(1-ActiveEvent {'gain': 0, 'state': 1})>\n",
      "<Event(1-ActiveEvent {'gain': 1, 'state': 1})>\n",
      "<Event(4-MouseMotion {'pos': (14, 33), 'rel': (14, -113), 'buttons': (0, 0, 0)})>\n",
      "<Event(4-MouseMotion {'pos': (32, 30), 'rel': (18, -3), 'buttons': (0, 0, 0)})>\n",
      "<Event(4-MouseMotion {'pos': (46, 26), 'rel': (14, -4), 'buttons': (0, 0, 0)})>\n",
      "<Event(4-MouseMotion {'pos': (56, 24), 'rel': (10, -2), 'buttons': (0, 0, 0)})>\n",
      "<Event(4-MouseMotion {'pos': (63, 22), 'rel': (7, -2), 'buttons': (0, 0, 0)})>\n",
      "<Event(4-MouseMotion {'pos': (64, 22), 'rel': (1, 0), 'buttons': (0, 0, 0)})>\n",
      "<Event(4-MouseMotion {'pos': (64, 21), 'rel': (0, -1), 'buttons': (0, 0, 0)})>\n",
      "<Event(4-MouseMotion {'pos': (65, 18), 'rel': (1, -3), 'buttons': (0, 0, 0)})>\n",
      "<Event(4-MouseMotion {'pos': (65, 17), 'rel': (0, -1), 'buttons': (0, 0, 0)})>\n",
      "<Event(4-MouseMotion {'pos': (65, 15), 'rel': (0, -2), 'buttons': (0, 0, 0)})>\n",
      "<Event(4-MouseMotion {'pos': (65, 14), 'rel': (0, -1), 'buttons': (0, 0, 0)})>\n",
      "<Event(4-MouseMotion {'pos': (64, 11), 'rel': (-1, -3), 'buttons': (0, 0, 0)})>\n",
      "<Event(1-ActiveEvent {'gain': 0, 'state': 1})>\n",
      "<Event(1-ActiveEvent {'gain': 1, 'state': 1})>\n",
      "<Event(4-MouseMotion {'pos': (281, 7), 'rel': (217, -4), 'buttons': (0, 0, 0)})>\n",
      "<Event(4-MouseMotion {'pos': (305, 15), 'rel': (24, 8), 'buttons': (0, 0, 0)})>\n",
      "<Event(4-MouseMotion {'pos': (317, 19), 'rel': (12, 4), 'buttons': (0, 0, 0)})>\n",
      "<Event(4-MouseMotion {'pos': (325, 23), 'rel': (8, 4), 'buttons': (0, 0, 0)})>\n",
      "<Event(4-MouseMotion {'pos': (329, 24), 'rel': (4, 1), 'buttons': (0, 0, 0)})>\n",
      "<Event(4-MouseMotion {'pos': (335, 24), 'rel': (6, 0), 'buttons': (0, 0, 0)})>\n",
      "<Event(4-MouseMotion {'pos': (347, 24), 'rel': (12, 0), 'buttons': (0, 0, 0)})>\n",
      "<Event(4-MouseMotion {'pos': (358, 24), 'rel': (11, 0), 'buttons': (0, 0, 0)})>\n",
      "<Event(4-MouseMotion {'pos': (368, 20), 'rel': (10, -4), 'buttons': (0, 0, 0)})>\n",
      "<Event(4-MouseMotion {'pos': (375, 17), 'rel': (7, -3), 'buttons': (0, 0, 0)})>\n",
      "<Event(4-MouseMotion {'pos': (389, 11), 'rel': (14, -6), 'buttons': (0, 0, 0)})>\n",
      "<Event(4-MouseMotion {'pos': (407, 8), 'rel': (18, -3), 'buttons': (0, 0, 0)})>\n",
      "<Event(4-MouseMotion {'pos': (417, 7), 'rel': (10, -1), 'buttons': (0, 0, 0)})>\n",
      "<Event(4-MouseMotion {'pos': (431, 8), 'rel': (14, 1), 'buttons': (0, 0, 0)})>\n",
      "<Event(4-MouseMotion {'pos': (442, 12), 'rel': (11, 4), 'buttons': (0, 0, 0)})>\n",
      "<Event(4-MouseMotion {'pos': (457, 18), 'rel': (15, 6), 'buttons': (0, 0, 0)})>\n",
      "<Event(4-MouseMotion {'pos': (469, 23), 'rel': (12, 5), 'buttons': (0, 0, 0)})>\n",
      "<Event(4-MouseMotion {'pos': (480, 24), 'rel': (11, 1), 'buttons': (0, 0, 0)})>\n",
      "<Event(4-MouseMotion {'pos': (496, 24), 'rel': (16, 0), 'buttons': (0, 0, 0)})>\n",
      "<Event(4-MouseMotion {'pos': (509, 24), 'rel': (13, 0), 'buttons': (0, 0, 0)})>\n",
      "<Event(4-MouseMotion {'pos': (528, 24), 'rel': (19, 0), 'buttons': (0, 0, 0)})>\n",
      "<Event(4-MouseMotion {'pos': (547, 28), 'rel': (19, 4), 'buttons': (0, 0, 0)})>\n",
      "<Event(4-MouseMotion {'pos': (568, 31), 'rel': (21, 3), 'buttons': (0, 0, 0)})>\n",
      "<Event(4-MouseMotion {'pos': (584, 34), 'rel': (16, 3), 'buttons': (0, 0, 0)})>\n",
      "<Event(4-MouseMotion {'pos': (613, 37), 'rel': (29, 3), 'buttons': (0, 0, 0)})>\n",
      "<Event(4-MouseMotion {'pos': (619, 39), 'rel': (6, 2), 'buttons': (0, 0, 0)})>\n",
      "<Event(4-MouseMotion {'pos': (649, 42), 'rel': (30, 3), 'buttons': (0, 0, 0)})>\n",
      "<Event(4-MouseMotion {'pos': (655, 40), 'rel': (6, -2), 'buttons': (0, 0, 0)})>\n",
      "<Event(4-MouseMotion {'pos': (677, 30), 'rel': (22, -10), 'buttons': (0, 0, 0)})>\n",
      "<Event(4-MouseMotion {'pos': (696, 20), 'rel': (19, -10), 'buttons': (0, 0, 0)})>\n",
      "<Event(4-MouseMotion {'pos': (713, 14), 'rel': (17, -6), 'buttons': (0, 0, 0)})>\n",
      "<Event(4-MouseMotion {'pos': (732, 8), 'rel': (19, -6), 'buttons': (0, 0, 0)})>\n",
      "<Event(4-MouseMotion {'pos': (738, 6), 'rel': (6, -2), 'buttons': (0, 0, 0)})>\n",
      "<Event(4-MouseMotion {'pos': (740, 6), 'rel': (2, 0), 'buttons': (0, 0, 0)})>\n",
      "<Event(4-MouseMotion {'pos': (745, 6), 'rel': (5, 0), 'buttons': (0, 0, 0)})>\n",
      "<Event(4-MouseMotion {'pos': (748, 6), 'rel': (3, 0), 'buttons': (0, 0, 0)})>\n",
      "<Event(4-MouseMotion {'pos': (750, 6), 'rel': (2, 0), 'buttons': (0, 0, 0)})>\n",
      "<Event(4-MouseMotion {'pos': (752, 6), 'rel': (2, 0), 'buttons': (0, 0, 0)})>\n",
      "<Event(4-MouseMotion {'pos': (754, 6), 'rel': (2, 0), 'buttons': (0, 0, 0)})>\n",
      "<Event(4-MouseMotion {'pos': (756, 6), 'rel': (2, 0), 'buttons': (0, 0, 0)})>\n",
      "<Event(4-MouseMotion {'pos': (759, 5), 'rel': (3, -1), 'buttons': (0, 0, 0)})>\n",
      "<Event(4-MouseMotion {'pos': (766, 2), 'rel': (7, -3), 'buttons': (0, 0, 0)})>\n",
      "<Event(1-ActiveEvent {'gain': 0, 'state': 1})>\n",
      "<Event(12-Quit {})>\n"
     ]
    }
   ],
   "source": [
    "crashed = False\n",
    "while not crashed:\n",
    "    for event in pygame.event.get():\n",
    "        if event.type == pygame.QUIT:\n",
    "            crashed = True\n",
    "        print (event)\n",
    "    \n",
    "    pygame.display.update()\n",
    "    \n",
    "    clock.tick(60)\n",
    "\n",
    "pygame.quit()"
   ]
  },
  {
   "cell_type": "code",
   "execution_count": null,
   "metadata": {
    "collapsed": true
   },
   "outputs": [],
   "source": []
  }
 ],
 "metadata": {
  "kernelspec": {
   "display_name": "Python 3",
   "language": "python",
   "name": "python3"
  },
  "language_info": {
   "codemirror_mode": {
    "name": "ipython",
    "version": 3
   },
   "file_extension": ".py",
   "mimetype": "text/x-python",
   "name": "python",
   "nbconvert_exporter": "python",
   "pygments_lexer": "ipython3",
   "version": "3.6.0"
  }
 },
 "nbformat": 4,
 "nbformat_minor": 2
}
