{
 "cells": [
  {
   "cell_type": "code",
   "execution_count": 1,
   "metadata": {},
   "outputs": [
    {
     "data": {
      "text/plain": [
       "0"
      ]
     },
     "execution_count": 1,
     "metadata": {},
     "output_type": "execute_result"
    }
   ],
   "source": [
    "from PyQt5 import QtGui\n",
    "from PyQt5.QtWidgets import QApplication, QWidget, QSlider, QVBoxLayout, QMainWindow\n",
    "import pygame\n",
    "import sys\n",
    "\n",
    "class ImageWidget(QWidget):\n",
    "    def __init__(self,surface,parent=None):\n",
    "        super(ImageWidget,self).__init__(parent)\n",
    "        w=surface.get_width()\n",
    "        h=surface.get_height()\n",
    "        self.data=surface.get_buffer().raw\n",
    "        self.image=QtGui.QImage(self.data,w,h,QtGui.QImage.Format_RGB32)\n",
    "        self.setMinimumSize(640,480)\n",
    "\n",
    "    def paintEvent(self,event):\n",
    "        qp=QtGui.QPainter()\n",
    "        qp.begin(self)\n",
    "        qp.drawImage(0,0,self.image)\n",
    "        qp.end()\n",
    "\n",
    "\n",
    "class MainWindow(QWidget):\n",
    "    def __init__(self,surface,parent=None):\n",
    "        super(MainWindow,self).__init__(parent)\n",
    "        vBox = QVBoxLayout()\n",
    "        self.setLayout(vBox)\n",
    "        vBox.addWidget(ImageWidget(surface))\n",
    "        vBox.addWidget(QSlider())\n",
    "        vBox.addWidget(QSlider())\n",
    "\n",
    "\n",
    "\n",
    "pygame.init()\n",
    "s=pygame.Surface((640,480))\n",
    "s.fill((64,128,192,255))\n",
    "pygame.draw.circle(s,(255,255,255,100),(100,100),50)\n",
    "\n",
    "app=QApplication(sys.argv)\n",
    "w=MainWindow(s)\n",
    "w.show()\n",
    "app.exec_()"
   ]
  },
  {
   "cell_type": "code",
   "execution_count": null,
   "metadata": {
    "collapsed": true
   },
   "outputs": [],
   "source": []
  }
 ],
 "metadata": {
  "anaconda-cloud": {},
  "kernelspec": {
   "display_name": "Python 3",
   "language": "python",
   "name": "python3"
  },
  "language_info": {
   "codemirror_mode": {
    "name": "ipython",
    "version": 3
   },
   "file_extension": ".py",
   "mimetype": "text/x-python",
   "name": "python",
   "nbconvert_exporter": "python",
   "pygments_lexer": "ipython3",
   "version": "3.5.4"
  }
 },
 "nbformat": 4,
 "nbformat_minor": 2
}
