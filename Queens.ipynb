{
 "cells": [
  {
   "cell_type": "code",
   "execution_count": 2,
   "metadata": {
    "collapsed": true
   },
   "outputs": [],
   "source": [
    "#Solving problem of putting 8 queens on chess board, so that they do not attack each other\n",
    "from queue import LifoQueue\n",
    "rows ='12345678'\n",
    "cols ='ABCDEFGH'\n",
    "\n",
    "def cross(a,b):\n",
    "    '''Use for all possible mix of items that are in a and b'''\n",
    "    return [r+s for r in a for s in b]\n",
    "def filterStraight (a, num):\n",
    "    '''A helper fucntion used to create diagonals\n",
    "    returns list with length that depends on the num i.e for num = 1 legth of list is 1 and it starts with first\n",
    "    element in a, for num 2 length of list is 2 and it start with first element of a\n",
    "    the pattern continues until list reaches the length of a and contains all of its elements\n",
    "    After the that for num = 9, the length of list is 7 and the elements start with second element in a\n",
    "    \n",
    "    '''\n",
    "    return [sign for counter, sign in enumerate(a) if (counter < num and num<=8)or (num>8 and counter+8>=num)]\n",
    "\n",
    "\n",
    "\n",
    "# each box is one square on the board from A1 to H8\n",
    "boxes = cross(cols,rows)\n",
    "\n",
    "# @row_units is a list of 8 smaller lists. each of inner lists represent a row with squares a1..h1, a2..h2, etc\n",
    "row_units = [cross(cols,r) for r in rows]\n",
    "# @column_units is a list of 8 smaller lists that are columns a1..a8, b1..b8, etc \n",
    "column_units = [cross(c,rows) for c in cols]\n",
    "# @diagsL - diagonals going from top left to bottom right\n",
    "diagsL = []\n",
    "# @diagsR - daigonals going from bottom left to top right\n",
    "diagsR = []\n",
    "for num in range(1,16):\n",
    "    col = filterStraight(cols, num)\n",
    "    row = filterStraight(rows, num)[::-1]\n",
    "    diagsL.append([r+c for r,c in zip(col, row)])\n",
    "    index = -num if num<=8 else num-16\n",
    "    if (num <=8):\n",
    "        row1 = rows [-num:]\n",
    "    else:\n",
    "        row1 = rows [:8-num]\n",
    "    diagsR.append([r+c for r,c in zip(col, row1)])\n",
    "unitlist = row_units + column_units + diagsL + diagsR\n",
    "units = dict((s, [u for u in unitlist if s in u]) for s in boxes)\n",
    "peers = dict((s, set(sum(units[s],[]))-set([s])) for s in boxes)\n"
   ]
  },
  {
   "cell_type": "code",
   "execution_count": 3,
   "metadata": {
    "collapsed": true
   },
   "outputs": [],
   "source": [
    "def solve ():\n",
    "    \"\"\"This function solves the 8 queen problem\n",
    "        \n",
    "    Return:\n",
    "    @solSet - list of all the solutions that were found\n",
    "    \"\"\"\n",
    "    \n",
    "    #list storing current incomplete solution\n",
    "    sol = []\n",
    "    #list containing successful full solutions\n",
    "    solSet = []\n",
    "    #set of squares attacked by queens in current solution\n",
    "    used = set()\n",
    "    #stack storing solution components to be processed next\n",
    "    lifo = LifoQueue()\n",
    "    # put values A1..., A8 in the stack\n",
    "    for r in rows:\n",
    "        lifo.put(cols[0]+r)\n",
    "    \n",
    "    while lifo.empty()==False:\n",
    "        #get box from the to of the stack\n",
    "        currentBox = lifo.get()\n",
    "        #delete all components of the current solution that are not to the left of the currently processed component\n",
    "        while (len(sol)!=0 and sol[-1][0]>= currentBox[0]):\n",
    "            del sol[-1]\n",
    "        #append current solution component to the solution\n",
    "        sol.append(currentBox)\n",
    "        index = len(sol)\n",
    "        # reinitialize removeNode flag to true (it would be switched to false if new values are added to the Stack)\n",
    "        removeNode = True\n",
    "        # add full solution to the solution list\n",
    "        if (index == 8):\n",
    "            solSet.append(sol[::])\n",
    "        else:\n",
    "            # empty and reinitialize the set of squares that can't be used\n",
    "            used = set()\n",
    "            for box in sol:\n",
    "                for peer in peers[box]:\n",
    "                    used.add(peer)\n",
    "            # all squares in the column to the right of the current solution component can potententially be new solution components \n",
    "            nextNodes = [cols[index] +r for r in rows]\n",
    "            for node in nextNodes:\n",
    "                #except the ones that are already attacked\n",
    "                if (node in used) == False:\n",
    "                    lifo.put(node)\n",
    "                    # if at least one solution component was addes to the stack set remove current solution comonent to false\n",
    "                    removeNode = False\n",
    "        \n",
    "        if (removeNode):\n",
    "            sol.remove(currentBox)\n",
    "    \n",
    "    return solSet"
   ]
  },
  {
   "cell_type": "code",
   "execution_count": 4,
   "metadata": {
    "collapsed": true
   },
   "outputs": [],
   "source": [
    "def init ():\n",
    "    return rows, cols, solve()"
   ]
  }
 ],
 "metadata": {
  "anaconda-cloud": {},
  "kernelspec": {
   "display_name": "Python 3",
   "language": "python",
   "name": "python3"
  },
  "language_info": {
   "codemirror_mode": {
    "name": "ipython",
    "version": 3
   },
   "file_extension": ".py",
   "mimetype": "text/x-python",
   "name": "python",
   "nbconvert_exporter": "python",
   "pygments_lexer": "ipython3",
   "version": "3.5.4"
  }
 },
 "nbformat": 4,
 "nbformat_minor": 2
}
